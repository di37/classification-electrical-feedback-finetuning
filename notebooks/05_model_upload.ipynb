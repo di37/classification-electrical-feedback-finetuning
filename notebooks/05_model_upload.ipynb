{
 "cells": [
  {
   "cell_type": "markdown",
   "metadata": {},
   "source": [
    "## Pushing Model to the Hub\n",
    "\n",
    "This notebook demonstrates how to push locally trained classification models to the Hugging Face Hub.\n",
    "\n",
    "It includes:\n",
    "- Loading pre-trained models and metadata.\n",
    "- Creating repositories on the Hugging Face Hub.\n",
    "- Uploading models and model cards with relevant evaluation metrics."
   ]
  },
  {
   "cell_type": "markdown",
   "metadata": {},
   "source": [
    "### Changing to the main directory"
   ]
  },
  {
   "cell_type": "code",
   "execution_count": 1,
   "metadata": {},
   "outputs": [
    {
     "name": "stdout",
     "output_type": "stream",
     "text": [
      "/home/isham/Desktop/machine-learning-projects/misc_ai_projects/elec-device-feedback-classification\n"
     ]
    },
    {
     "name": "stderr",
     "output_type": "stream",
     "text": [
      "/home/isham/anaconda3/envs/image_classification/lib/python3.12/site-packages/IPython/core/magics/osm.py:417: UserWarning: This is now an optional IPython functionality, setting dhist requires you to install the `pickleshare` library.\n",
      "  self.shell.db['dhist'] = compress_dhist(dhist)[-100:]\n"
     ]
    }
   ],
   "source": [
    "%cd .."
   ]
  },
  {
   "cell_type": "markdown",
   "metadata": {},
   "source": [
    "#### Importing Necessary Libraries"
   ]
  },
  {
   "cell_type": "code",
   "execution_count": 2,
   "metadata": {},
   "outputs": [],
   "source": [
    "import os\n",
    "from utilities import LOCAL_MODELS, DATASET_ID\n",
    "from utilities import push_model_to_hub\n",
    "from dotenv import load_dotenv\n",
    "import pandas as pd \n",
    "\n",
    "_ = load_dotenv()\n",
    "\n",
    "# Your Hugging Face token\n",
    "token = os.getenv(\"HF_TOKEN\")  # Replace with your actual token"
   ]
  },
  {
   "cell_type": "code",
   "execution_count": 3,
   "metadata": {},
   "outputs": [
    {
     "data": {
      "text/plain": [
       "{'distilbert/distilbert-base-uncased': 'electrical-classification-distilbert-base-uncased',\n",
       " 'google-bert/bert-base-uncased': 'electrical-classification-bert-base-uncased',\n",
       " 'google-bert/bert-large-uncased': 'electrical-classification-bert-large-uncased',\n",
       " 'answerdotai/ModernBERT-base': 'electrical-classification-ModernBERT-base',\n",
       " 'answerdotai/ModernBERT-large': 'electrical-classification-ModernBERT-large'}"
      ]
     },
     "execution_count": 3,
     "metadata": {},
     "output_type": "execute_result"
    }
   ],
   "source": [
    "LOCAL_MODELS\n"
   ]
  },
  {
   "cell_type": "markdown",
   "metadata": {},
   "source": [
    "### Pushing Models to the Hub"
   ]
  },
  {
   "cell_type": "code",
   "execution_count": 4,
   "metadata": {},
   "outputs": [
    {
     "name": "stdout",
     "output_type": "stream",
     "text": [
      "distilbert/distilbert-base-uncased electrical-classification-distilbert-base-uncased\n"
     ]
    },
    {
     "name": "stderr",
     "output_type": "stream",
     "text": [
      "Note: Environment variable`HF_TOKEN` is set and is the current active token independently from the token you've just configured.\n"
     ]
    },
    {
     "name": "stdout",
     "output_type": "stream",
     "text": [
      "Created new repository: https://huggingface.co/disham993/electrical-classification-distilbert-base-uncased\n",
      "Model card pushed successfully\n",
      "Pushing model files from ./models/electrical-classification-distilbert-base-uncased\n"
     ]
    },
    {
     "data": {
      "application/vnd.jupyter.widget-view+json": {
       "model_id": "1782f13dbc5a46849289f35c80a4f762",
       "version_major": 2,
       "version_minor": 0
      },
      "text/plain": [
       "model.safetensors:   0%|          | 0.00/268M [00:00<?, ?B/s]"
      ]
     },
     "metadata": {},
     "output_type": "display_data"
    },
    {
     "name": "stdout",
     "output_type": "stream",
     "text": [
      "Model files pushed successfully\n",
      "google-bert/bert-base-uncased electrical-classification-bert-base-uncased\n"
     ]
    },
    {
     "name": "stderr",
     "output_type": "stream",
     "text": [
      "Note: Environment variable`HF_TOKEN` is set and is the current active token independently from the token you've just configured.\n"
     ]
    },
    {
     "name": "stdout",
     "output_type": "stream",
     "text": [
      "Using existing repository: disham993/electrical-classification-bert-base-uncased\n",
      "Model card pushed successfully\n",
      "Pushing model files from ./models/electrical-classification-bert-base-uncased\n"
     ]
    },
    {
     "data": {
      "application/vnd.jupyter.widget-view+json": {
       "model_id": "f0a5ec27baf7499c8d971aa53bedefd4",
       "version_major": 2,
       "version_minor": 0
      },
      "text/plain": [
       "model.safetensors:   0%|          | 0.00/438M [00:00<?, ?B/s]"
      ]
     },
     "metadata": {},
     "output_type": "display_data"
    },
    {
     "name": "stdout",
     "output_type": "stream",
     "text": [
      "Model files pushed successfully\n",
      "google-bert/bert-large-uncased electrical-classification-bert-large-uncased\n"
     ]
    },
    {
     "name": "stderr",
     "output_type": "stream",
     "text": [
      "Note: Environment variable`HF_TOKEN` is set and is the current active token independently from the token you've just configured.\n"
     ]
    },
    {
     "name": "stdout",
     "output_type": "stream",
     "text": [
      "Created new repository: https://huggingface.co/disham993/electrical-classification-bert-large-uncased\n",
      "Model card pushed successfully\n",
      "Pushing model files from ./models/electrical-classification-bert-large-uncased\n"
     ]
    },
    {
     "data": {
      "application/vnd.jupyter.widget-view+json": {
       "model_id": "f4be857907e04bcc87b3828f77f97a9c",
       "version_major": 2,
       "version_minor": 0
      },
      "text/plain": [
       "model.safetensors:   0%|          | 0.00/1.34G [00:00<?, ?B/s]"
      ]
     },
     "metadata": {},
     "output_type": "display_data"
    },
    {
     "name": "stdout",
     "output_type": "stream",
     "text": [
      "Model files pushed successfully\n",
      "answerdotai/ModernBERT-base electrical-classification-ModernBERT-base\n"
     ]
    },
    {
     "name": "stderr",
     "output_type": "stream",
     "text": [
      "Note: Environment variable`HF_TOKEN` is set and is the current active token independently from the token you've just configured.\n"
     ]
    },
    {
     "name": "stdout",
     "output_type": "stream",
     "text": [
      "Created new repository: https://huggingface.co/disham993/electrical-classification-ModernBERT-base\n",
      "Model card pushed successfully\n",
      "Pushing model files from ./models/electrical-classification-ModernBERT-base\n"
     ]
    },
    {
     "data": {
      "application/vnd.jupyter.widget-view+json": {
       "model_id": "91a2dd337019488b9f7238662411dd0a",
       "version_major": 2,
       "version_minor": 0
      },
      "text/plain": [
       "model.safetensors:   0%|          | 0.00/598M [00:00<?, ?B/s]"
      ]
     },
     "metadata": {},
     "output_type": "display_data"
    },
    {
     "name": "stdout",
     "output_type": "stream",
     "text": [
      "Model files pushed successfully\n",
      "answerdotai/ModernBERT-large electrical-classification-ModernBERT-large\n"
     ]
    },
    {
     "name": "stderr",
     "output_type": "stream",
     "text": [
      "Note: Environment variable`HF_TOKEN` is set and is the current active token independently from the token you've just configured.\n"
     ]
    },
    {
     "name": "stdout",
     "output_type": "stream",
     "text": [
      "Created new repository: https://huggingface.co/disham993/electrical-classification-ModernBERT-large\n",
      "Model card pushed successfully\n",
      "Pushing model files from ./models/electrical-classification-ModernBERT-large\n"
     ]
    },
    {
     "data": {
      "application/vnd.jupyter.widget-view+json": {
       "model_id": "d6ac4991e85c490c9d0f19a5bbd909dd",
       "version_major": 2,
       "version_minor": 0
      },
      "text/plain": [
       "model.safetensors:   0%|          | 0.00/1.58G [00:00<?, ?B/s]"
      ]
     },
     "metadata": {},
     "output_type": "display_data"
    },
    {
     "name": "stdout",
     "output_type": "stream",
     "text": [
      "Model files pushed successfully\n"
     ]
    }
   ],
   "source": [
    "try:\n",
    "    # Create and clone repository with model card\n",
    "    for base_model, local_model in LOCAL_MODELS.items():\n",
    "        print(base_model, local_model)\n",
    "        repo = push_model_to_hub(\n",
    "            repo_name=f\"disham993/{local_model}\",\n",
    "            token=token,\n",
    "            task_type=\"text-classification\",\n",
    "            base_model=base_model,\n",
    "            dataset_name=DATASET_ID,\n",
    "            model_dir=f\"./models/{local_model}\",  # Directory containing your model files\n",
    "            private=False,\n",
    "            model_card_kwargs={\n",
    "                \"language\": \"en\",\n",
    "                \"dataset\": DATASET_ID,\n",
    "                \"metrics\": pd.read_csv(f'logs/{local_model}-results.csv').loc[0].to_dict()\n",
    "            }\n",
    "        )\n",
    "except Exception as e:\n",
    "    print(f\"Failed to create/clone repository: {str(e)}\")"
   ]
  }
 ],
 "metadata": {
  "kernelspec": {
   "display_name": "image_classification",
   "language": "python",
   "name": "python3"
  },
  "language_info": {
   "codemirror_mode": {
    "name": "ipython",
    "version": 3
   },
   "file_extension": ".py",
   "mimetype": "text/x-python",
   "name": "python",
   "nbconvert_exporter": "python",
   "pygments_lexer": "ipython3",
   "version": "3.12.7"
  }
 },
 "nbformat": 4,
 "nbformat_minor": 2
}
