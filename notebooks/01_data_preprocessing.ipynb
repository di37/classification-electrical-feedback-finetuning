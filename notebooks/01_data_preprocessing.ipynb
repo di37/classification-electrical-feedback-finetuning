{
 "cells": [
  {
   "cell_type": "markdown",
   "metadata": {},
   "source": [
    "### Changing to the main directory"
   ]
  },
  {
   "cell_type": "code",
   "execution_count": 1,
   "metadata": {},
   "outputs": [
    {
     "name": "stdout",
     "output_type": "stream",
     "text": [
      "/home/isham/Desktop/machine-learning-projects/misc_ai_projects/elec-device-feedback-classification\n"
     ]
    },
    {
     "name": "stderr",
     "output_type": "stream",
     "text": [
      "/home/isham/anaconda3/envs/synthetic_dataset/lib/python3.12/site-packages/IPython/core/magics/osm.py:417: UserWarning: This is now an optional IPython functionality, setting dhist requires you to install the `pickleshare` library.\n",
      "  self.shell.db['dhist'] = compress_dhist(dhist)[-100:]\n"
     ]
    }
   ],
   "source": [
    "%cd .."
   ]
  },
  {
   "cell_type": "markdown",
   "metadata": {},
   "source": [
    "### Importing Necessary Libraries"
   ]
  },
  {
   "cell_type": "code",
   "execution_count": 2,
   "metadata": {},
   "outputs": [],
   "source": [
    "from datasets import load_dataset\n",
    "from sklearn.model_selection import train_test_split\n",
    "import pandas as pd\n",
    "from datasets import Dataset, DatasetDict, Features, ClassLabel, Value, DatasetInfo"
   ]
  },
  {
   "cell_type": "markdown",
   "metadata": {},
   "source": [
    "### Loading the Dataset"
   ]
  },
  {
   "cell_type": "markdown",
   "metadata": {},
   "source": [
    "We will be loading the dataset that has been created by synthetic data generator and model was used llama3.1:8b via ollama by Argilla team and is pushed to hugging face hub `disham993/ElectricalDeviceFeedback`."
   ]
  },
  {
   "cell_type": "code",
   "execution_count": 3,
   "metadata": {},
   "outputs": [],
   "source": [
    "datasets = load_dataset(\"disham993/ElectricalDeviceFeedback\")"
   ]
  },
  {
   "cell_type": "code",
   "execution_count": 4,
   "metadata": {},
   "outputs": [
    {
     "data": {
      "text/plain": [
       "['negative', 'positive', 'mixed', 'neutral']"
      ]
     },
     "execution_count": 4,
     "metadata": {},
     "output_type": "execute_result"
    }
   ],
   "source": [
    "labels = datasets['train'].features['label'].names\n",
    "labels"
   ]
  },
  {
   "cell_type": "code",
   "execution_count": 5,
   "metadata": {},
   "outputs": [
    {
     "data": {
      "text/plain": [
       "''"
      ]
     },
     "execution_count": 5,
     "metadata": {},
     "output_type": "execute_result"
    }
   ],
   "source": [
    "datasets['train'].description"
   ]
  },
  {
   "cell_type": "code",
   "execution_count": 6,
   "metadata": {},
   "outputs": [],
   "source": [
    "df = datasets['train'].to_pandas()"
   ]
  },
  {
   "cell_type": "code",
   "execution_count": 7,
   "metadata": {},
   "outputs": [
    {
     "data": {
      "text/html": [
       "<div>\n",
       "<style scoped>\n",
       "    .dataframe tbody tr th:only-of-type {\n",
       "        vertical-align: middle;\n",
       "    }\n",
       "\n",
       "    .dataframe tbody tr th {\n",
       "        vertical-align: top;\n",
       "    }\n",
       "\n",
       "    .dataframe thead th {\n",
       "        text-align: right;\n",
       "    }\n",
       "</style>\n",
       "<table border=\"1\" class=\"dataframe\">\n",
       "  <thead>\n",
       "    <tr style=\"text-align: right;\">\n",
       "      <th></th>\n",
       "      <th>text</th>\n",
       "      <th>label</th>\n",
       "    </tr>\n",
       "  </thead>\n",
       "  <tbody>\n",
       "    <tr>\n",
       "      <th>0</th>\n",
       "      <td>The inverter's performance was satisfactory, y...</td>\n",
       "      <td>2</td>\n",
       "    </tr>\n",
       "    <tr>\n",
       "      <th>1</th>\n",
       "      <td>The smart meter's ability to provide real-time...</td>\n",
       "      <td>1</td>\n",
       "    </tr>\n",
       "    <tr>\n",
       "      <th>2</th>\n",
       "      <td>The inverter's efficiency loss under heavy loa...</td>\n",
       "      <td>0</td>\n",
       "    </tr>\n",
       "    <tr>\n",
       "      <th>3</th>\n",
       "      <td>The inverter's power factor correction algorit...</td>\n",
       "      <td>1</td>\n",
       "    </tr>\n",
       "    <tr>\n",
       "      <th>4</th>\n",
       "      <td>The circuit breaker's tripping mechanism exhib...</td>\n",
       "      <td>3</td>\n",
       "    </tr>\n",
       "    <tr>\n",
       "      <th>...</th>\n",
       "      <td>...</td>\n",
       "      <td>...</td>\n",
       "    </tr>\n",
       "    <tr>\n",
       "      <th>9006</th>\n",
       "      <td>I'm extremely disappointed with my smart meter...</td>\n",
       "      <td>0</td>\n",
       "    </tr>\n",
       "    <tr>\n",
       "      <th>9007</th>\n",
       "      <td>I recently installed a new solar panel system ...</td>\n",
       "      <td>0</td>\n",
       "    </tr>\n",
       "    <tr>\n",
       "      <th>9008</th>\n",
       "      <td>The circuit breaker's intermittent tripping ph...</td>\n",
       "      <td>3</td>\n",
       "    </tr>\n",
       "    <tr>\n",
       "      <th>9009</th>\n",
       "      <td>The novel harmonic distortion analysis on our ...</td>\n",
       "      <td>1</td>\n",
       "    </tr>\n",
       "    <tr>\n",
       "      <th>9010</th>\n",
       "      <td>The novel circuit breaker design utilizes a pr...</td>\n",
       "      <td>0</td>\n",
       "    </tr>\n",
       "  </tbody>\n",
       "</table>\n",
       "<p>9011 rows × 2 columns</p>\n",
       "</div>"
      ],
      "text/plain": [
       "                                                   text  label\n",
       "0     The inverter's performance was satisfactory, y...      2\n",
       "1     The smart meter's ability to provide real-time...      1\n",
       "2     The inverter's efficiency loss under heavy loa...      0\n",
       "3     The inverter's power factor correction algorit...      1\n",
       "4     The circuit breaker's tripping mechanism exhib...      3\n",
       "...                                                 ...    ...\n",
       "9006  I'm extremely disappointed with my smart meter...      0\n",
       "9007  I recently installed a new solar panel system ...      0\n",
       "9008  The circuit breaker's intermittent tripping ph...      3\n",
       "9009  The novel harmonic distortion analysis on our ...      1\n",
       "9010  The novel circuit breaker design utilizes a pr...      0\n",
       "\n",
       "[9011 rows x 2 columns]"
      ]
     },
     "execution_count": 7,
     "metadata": {},
     "output_type": "execute_result"
    }
   ],
   "source": [
    "df"
   ]
  },
  {
   "cell_type": "code",
   "execution_count": 8,
   "metadata": {},
   "outputs": [
    {
     "name": "stdout",
     "output_type": "stream",
     "text": [
      "Training Class Distribution: label\n",
      "0    4252\n",
      "1    3818\n",
      "3     712\n",
      "2     229\n",
      "Name: count, dtype: int64\n",
      "\n"
     ]
    }
   ],
   "source": [
    "print(f\"Training Class Distribution: {pd.Series(df['label']).value_counts()}\\n\")"
   ]
  },
  {
   "cell_type": "markdown",
   "metadata": {},
   "source": [
    "It is an imbalanced dataset. Therefore we cannot train the model using this dataset as there will be biasness. Lets take the necessary steps to overcome this."
   ]
  },
  {
   "cell_type": "markdown",
   "metadata": {},
   "source": [
    "### Train Test Validation Split"
   ]
  },
  {
   "cell_type": "markdown",
   "metadata": {},
   "source": [
    "This step is crucial to avoid data leakage before generating new data points for labels 3 and 2."
   ]
  },
  {
   "cell_type": "code",
   "execution_count": 10,
   "metadata": {},
   "outputs": [],
   "source": [
    "X = df['text']\n",
    "y = df['label']\n",
    "\n",
    "# Initial split into training and temporary sets\n",
    "X_train, X_temp, y_train, y_temp = train_test_split(\n",
    "    X, y, test_size=0.3, stratify=y, random_state=42  # 70% train, 30% temp\n",
    ")\n",
    "X_val, X_test, y_val, y_test = train_test_split(\n",
    "    X_temp, y_temp, test_size=0.5, stratify=y_temp, random_state=42  # 15% test, 15% validation\n",
    ")"
   ]
  },
  {
   "cell_type": "markdown",
   "metadata": {},
   "source": [
    "Note: Stratification is crucial in splitting datasets, especially in classification problems, to ensure that the class proportions are preserved in each split (train, test, and validation). "
   ]
  },
  {
   "cell_type": "code",
   "execution_count": 11,
   "metadata": {},
   "outputs": [
    {
     "name": "stdout",
     "output_type": "stream",
     "text": [
      "Training Class Distribution: label\n",
      "0    2976\n",
      "1    2672\n",
      "3     499\n",
      "2     160\n",
      "Name: count, dtype: int64\n",
      "\n",
      "Validation Class Distribution: label\n",
      "0    638\n",
      "1    573\n",
      "3    107\n",
      "2     34\n",
      "Name: count, dtype: int64\n",
      "\n",
      "Test Class Distribution: label\n",
      "0    638\n",
      "1    573\n",
      "3    106\n",
      "2     35\n",
      "Name: count, dtype: int64\n"
     ]
    }
   ],
   "source": [
    "print(f\"Training Class Distribution: {pd.Series(y_train).value_counts()}\\n\")\n",
    "print(f\"Validation Class Distribution: {pd.Series(y_val).value_counts()}\\n\")\n",
    "print(f\"Test Class Distribution: {pd.Series(y_test).value_counts()}\")"
   ]
  },
  {
   "cell_type": "markdown",
   "metadata": {},
   "source": [
    "### Handling Imbalance Dataset\n",
    "\n",
    "Since you want to focus on generating neutral and mixed samples to balance the dataset, we will generate:\n",
    "\n",
    "- neutral: 2270 \n",
    "- mixed: 2983 \n",
    "\n",
    "To do this, we have used additional script `generate_additional_data.py`. We are using `llama3.1` and prompt engineering to upsample the dataset."
   ]
  },
  {
   "cell_type": "code",
   "execution_count": 12,
   "metadata": {},
   "outputs": [],
   "source": [
    "generated_data = pd.read_csv(\"additional_feedback.csv\")"
   ]
  },
  {
   "cell_type": "code",
   "execution_count": 24,
   "metadata": {},
   "outputs": [],
   "source": [
    "generated_data['label'] = generated_data['label_name'].map({\"mixed\": 2, \"neutral\": 3})"
   ]
  },
  {
   "cell_type": "code",
   "execution_count": 27,
   "metadata": {},
   "outputs": [],
   "source": [
    "def clean_text(text):\n",
    "    text = text.split('\\n')\n",
    "    text = text[-1].strip().replace('\"', '')\n",
    "    return text"
   ]
  },
  {
   "cell_type": "code",
   "execution_count": 28,
   "metadata": {},
   "outputs": [
    {
     "data": {
      "text/plain": [
       "feedback      0\n",
       "label_name    0\n",
       "label         0\n",
       "dtype: int64"
      ]
     },
     "execution_count": 28,
     "metadata": {},
     "output_type": "execute_result"
    }
   ],
   "source": [
    "generated_data.isna().sum()"
   ]
  },
  {
   "cell_type": "code",
   "execution_count": 29,
   "metadata": {},
   "outputs": [],
   "source": [
    "generated_data['feedback'] = generated_data['feedback'].apply(clean_text)\n",
    "generated_data['text'] = generated_data['feedback'] \n",
    "generated_data.drop(columns=['feedback'], inplace=True)\n",
    "generated_data = generated_data.sample(frac=1, random_state=42)\n",
    "generated_data.reset_index(drop=True, inplace=True)"
   ]
  },
  {
   "cell_type": "code",
   "execution_count": 30,
   "metadata": {},
   "outputs": [
    {
     "data": {
      "text/plain": [
       "label_name    0\n",
       "label         0\n",
       "text          0\n",
       "dtype: int64"
      ]
     },
     "execution_count": 30,
     "metadata": {},
     "output_type": "execute_result"
    }
   ],
   "source": [
    "generated_data.isna().sum()"
   ]
  },
  {
   "cell_type": "code",
   "execution_count": 37,
   "metadata": {},
   "outputs": [
    {
     "data": {
      "text/plain": [
       "label_name                                              neutral\n",
       "label                                                         3\n",
       "text          This feedback example is purely factual and ob...\n",
       "Name: 2, dtype: object"
      ]
     },
     "execution_count": 37,
     "metadata": {},
     "output_type": "execute_result"
    }
   ],
   "source": [
    "generated_data.iloc[2]"
   ]
  },
  {
   "cell_type": "code",
   "execution_count": 45,
   "metadata": {},
   "outputs": [
    {
     "data": {
      "text/html": [
       "<div>\n",
       "<style scoped>\n",
       "    .dataframe tbody tr th:only-of-type {\n",
       "        vertical-align: middle;\n",
       "    }\n",
       "\n",
       "    .dataframe tbody tr th {\n",
       "        vertical-align: top;\n",
       "    }\n",
       "\n",
       "    .dataframe thead th {\n",
       "        text-align: right;\n",
       "    }\n",
       "</style>\n",
       "<table border=\"1\" class=\"dataframe\">\n",
       "  <thead>\n",
       "    <tr style=\"text-align: right;\">\n",
       "      <th></th>\n",
       "      <th>text</th>\n",
       "      <th>label</th>\n",
       "      <th>label_name</th>\n",
       "    </tr>\n",
       "  </thead>\n",
       "  <tbody>\n",
       "    <tr>\n",
       "      <th>1781</th>\n",
       "      <td>While I appreciate the efficiency of my new sm...</td>\n",
       "      <td>0</td>\n",
       "      <td>negative</td>\n",
       "    </tr>\n",
       "    <tr>\n",
       "      <th>8461</th>\n",
       "      <td>The aberrant harmonics introduced by the inver...</td>\n",
       "      <td>0</td>\n",
       "      <td>negative</td>\n",
       "    </tr>\n",
       "    <tr>\n",
       "      <th>1187</th>\n",
       "      <td>The transformer's primary winding has some sig...</td>\n",
       "      <td>0</td>\n",
       "      <td>negative</td>\n",
       "    </tr>\n",
       "    <tr>\n",
       "      <th>3807</th>\n",
       "      <td>I recently purchased a 20A smart plug for my h...</td>\n",
       "      <td>1</td>\n",
       "      <td>positive</td>\n",
       "    </tr>\n",
       "    <tr>\n",
       "      <th>7006</th>\n",
       "      <td>I've been using this circuit breaker for month...</td>\n",
       "      <td>0</td>\n",
       "      <td>negative</td>\n",
       "    </tr>\n",
       "    <tr>\n",
       "      <th>...</th>\n",
       "      <td>...</td>\n",
       "      <td>...</td>\n",
       "      <td>...</td>\n",
       "    </tr>\n",
       "    <tr>\n",
       "      <th>6373</th>\n",
       "      <td>The circuit breaker's Arc Fault Detection feat...</td>\n",
       "      <td>1</td>\n",
       "      <td>positive</td>\n",
       "    </tr>\n",
       "    <tr>\n",
       "      <th>1013</th>\n",
       "      <td>The new smart meter installed in my home has b...</td>\n",
       "      <td>1</td>\n",
       "      <td>positive</td>\n",
       "    </tr>\n",
       "    <tr>\n",
       "      <th>4874</th>\n",
       "      <td>The smart meter's ability to provide real-time...</td>\n",
       "      <td>0</td>\n",
       "      <td>negative</td>\n",
       "    </tr>\n",
       "    <tr>\n",
       "      <th>4458</th>\n",
       "      <td>The new smart meter installed by our energy pr...</td>\n",
       "      <td>1</td>\n",
       "      <td>positive</td>\n",
       "    </tr>\n",
       "    <tr>\n",
       "      <th>8205</th>\n",
       "      <td>The circuit breaker's tripping time was measur...</td>\n",
       "      <td>3</td>\n",
       "      <td>neutral</td>\n",
       "    </tr>\n",
       "  </tbody>\n",
       "</table>\n",
       "<p>6307 rows × 3 columns</p>\n",
       "</div>"
      ],
      "text/plain": [
       "                                                   text  label label_name\n",
       "1781  While I appreciate the efficiency of my new sm...      0   negative\n",
       "8461  The aberrant harmonics introduced by the inver...      0   negative\n",
       "1187  The transformer's primary winding has some sig...      0   negative\n",
       "3807  I recently purchased a 20A smart plug for my h...      1   positive\n",
       "7006  I've been using this circuit breaker for month...      0   negative\n",
       "...                                                 ...    ...        ...\n",
       "6373  The circuit breaker's Arc Fault Detection feat...      1   positive\n",
       "1013  The new smart meter installed in my home has b...      1   positive\n",
       "4874  The smart meter's ability to provide real-time...      0   negative\n",
       "4458  The new smart meter installed by our energy pr...      1   positive\n",
       "8205  The circuit breaker's tripping time was measur...      3    neutral\n",
       "\n",
       "[6307 rows x 3 columns]"
      ]
     },
     "execution_count": 45,
     "metadata": {},
     "output_type": "execute_result"
    }
   ],
   "source": [
    "df_train = pd.concat([X_train, y_train], axis=1)\n",
    "df_train['label_name'] = df_train['label'].map({0: 'negative', 1: 'positive', 2: 'mixed', 3: 'neutral'})\n",
    "df_train"
   ]
  },
  {
   "cell_type": "code",
   "execution_count": 51,
   "metadata": {},
   "outputs": [
    {
     "data": {
      "text/plain": [
       "label_name\n",
       "negative    2976\n",
       "positive    2672\n",
       "neutral      499\n",
       "mixed        160\n",
       "Name: count, dtype: int64"
      ]
     },
     "execution_count": 51,
     "metadata": {},
     "output_type": "execute_result"
    }
   ],
   "source": [
    "df_train['label_name'].value_counts()"
   ]
  },
  {
   "cell_type": "code",
   "execution_count": 52,
   "metadata": {},
   "outputs": [
    {
     "data": {
      "text/plain": [
       "label_name\n",
       "mixed      2983\n",
       "neutral    2270\n",
       "Name: count, dtype: int64"
      ]
     },
     "execution_count": 52,
     "metadata": {},
     "output_type": "execute_result"
    }
   ],
   "source": [
    "generated_data['label_name'].value_counts()"
   ]
  },
  {
   "cell_type": "code",
   "execution_count": 46,
   "metadata": {},
   "outputs": [],
   "source": [
    "df_combined = pd.concat([df_train, generated_data], ignore_index=True)"
   ]
  },
  {
   "cell_type": "code",
   "execution_count": 47,
   "metadata": {},
   "outputs": [
    {
     "data": {
      "text/plain": [
       "np.int64(0)"
      ]
     },
     "execution_count": 47,
     "metadata": {},
     "output_type": "execute_result"
    }
   ],
   "source": [
    "df_combined['text'].isna().sum()"
   ]
  },
  {
   "cell_type": "code",
   "execution_count": 50,
   "metadata": {},
   "outputs": [
    {
     "data": {
      "text/plain": [
       "<Axes: title={'center': 'Label Distribution'}, ylabel='label_name'>"
      ]
     },
     "execution_count": 50,
     "metadata": {},
     "output_type": "execute_result"
    },
    {
     "data": {
      "image/png": "[encoded data removed]",
      "text/plain": [
       "<Figure size 640x480 with 1 Axes>"
      ]
     },
     "metadata": {},
     "output_type": "display_data"
    }
   ],
   "source": [
    "df_combined['label_name'].value_counts().plot(kind='barh', title='Label Distribution')"
   ]
  },
  {
   "cell_type": "code",
   "execution_count": 54,
   "metadata": {},
   "outputs": [
    {
     "data": {
      "text/plain": [
       "label_name\n",
       "mixed       3143\n",
       "negative    2976\n",
       "neutral     2769\n",
       "positive    2672\n",
       "Name: count, dtype: int64"
      ]
     },
     "execution_count": 54,
     "metadata": {},
     "output_type": "execute_result"
    }
   ],
   "source": [
    "df_combined['label_name'].value_counts()"
   ]
  },
  {
   "cell_type": "markdown",
   "metadata": {},
   "source": [
    "The distribution is much better now than the previous split, with:\n",
    "\n",
    "- More balanced representation across all classes\n",
    "- Ratio between highest (mixed: 3143) and lowest (positive: 2672) is about 1.18:1\n",
    "- Each class has substantial samples (>2600)\n",
    "- The distribution reflects a realistic mix of sentiments with no severely under-represented classes"
   ]
  },
  {
   "cell_type": "markdown",
   "metadata": {},
   "source": [
    "### Removing Duplicates"
   ]
  },
  {
   "cell_type": "code",
   "execution_count": 55,
   "metadata": {},
   "outputs": [
    {
     "name": "stdout",
     "output_type": "stream",
     "text": [
      "Number of duplicates: 8\n",
      "New shape after removing duplicates: (11552, 3)\n",
      "\n",
      "New label distribution:\n",
      "label_name\n",
      "mixed       3143\n",
      "negative    2975\n",
      "neutral     2762\n",
      "positive    2672\n",
      "Name: count, dtype: int64\n"
     ]
    }
   ],
   "source": [
    "# Check number of duplicates first\n",
    "print(\"Number of duplicates:\", df_combined.duplicated().sum())\n",
    "\n",
    "# Drop duplicates and reset index\n",
    "df_combined = df_combined.drop_duplicates().reset_index(drop=True)\n",
    "\n",
    "# Verify the new shape\n",
    "print(\"New shape after removing duplicates:\", df_combined.shape)\n",
    "\n",
    "# Check the new label distribution\n",
    "print(\"\\nNew label distribution:\")\n",
    "print(df_combined['label_name'].value_counts())"
   ]
  },
  {
   "cell_type": "code",
   "execution_count": 58,
   "metadata": {},
   "outputs": [
    {
     "data": {
      "text/plain": [
       "text          0\n",
       "label         0\n",
       "label_name    0\n",
       "dtype: int64"
      ]
     },
     "execution_count": 58,
     "metadata": {},
     "output_type": "execute_result"
    }
   ],
   "source": [
    "df_combined.isna().sum()"
   ]
  },
  {
   "cell_type": "code",
   "execution_count": 61,
   "metadata": {},
   "outputs": [],
   "source": [
    "y_train_new = df_combined['label']"
   ]
  },
  {
   "cell_type": "code",
   "execution_count": 62,
   "metadata": {},
   "outputs": [
    {
     "name": "stdout",
     "output_type": "stream",
     "text": [
      "Training Class Distribution: label\n",
      "2    3143\n",
      "0    2975\n",
      "3    2762\n",
      "1    2672\n",
      "Name: count, dtype: int64\n",
      "\n",
      "Validation Class Distribution: label\n",
      "0    638\n",
      "1    573\n",
      "3    107\n",
      "2     34\n",
      "Name: count, dtype: int64\n",
      "\n",
      "Test Class Distribution: label\n",
      "0    638\n",
      "1    573\n",
      "3    106\n",
      "2     35\n",
      "Name: count, dtype: int64\n"
     ]
    }
   ],
   "source": [
    "print(f\"Training Class Distribution after generation of new data: {pd.Series(y_train_new).value_counts()}\\n\")\n",
    "print(f\"Validation Class Distribution: {pd.Series(y_val).value_counts()}\\n\")\n",
    "print(f\"Test Class Distribution: {pd.Series(y_test).value_counts()}\")"
   ]
  },
  {
   "cell_type": "code",
   "execution_count": 69,
   "metadata": {},
   "outputs": [
    {
     "data": {
      "text/html": [
       "<div>\n",
       "<style scoped>\n",
       "    .dataframe tbody tr th:only-of-type {\n",
       "        vertical-align: middle;\n",
       "    }\n",
       "\n",
       "    .dataframe tbody tr th {\n",
       "        vertical-align: top;\n",
       "    }\n",
       "\n",
       "    .dataframe thead th {\n",
       "        text-align: right;\n",
       "    }\n",
       "</style>\n",
       "<table border=\"1\" class=\"dataframe\">\n",
       "  <thead>\n",
       "    <tr style=\"text-align: right;\">\n",
       "      <th></th>\n",
       "      <th>text</th>\n",
       "      <th>label</th>\n",
       "    </tr>\n",
       "  </thead>\n",
       "  <tbody>\n",
       "    <tr>\n",
       "      <th>0</th>\n",
       "      <td>The incorporation of non-linear magneto-electr...</td>\n",
       "      <td>0</td>\n",
       "    </tr>\n",
       "    <tr>\n",
       "      <th>1</th>\n",
       "      <td>I recently installed a new smart meter in my h...</td>\n",
       "      <td>0</td>\n",
       "    </tr>\n",
       "    <tr>\n",
       "      <th>2</th>\n",
       "      <td>The circuit breaker's thermal-magnetic trip me...</td>\n",
       "      <td>0</td>\n",
       "    </tr>\n",
       "    <tr>\n",
       "      <th>3</th>\n",
       "      <td>The new smart meter installed at my house has ...</td>\n",
       "      <td>0</td>\n",
       "    </tr>\n",
       "    <tr>\n",
       "      <th>4</th>\n",
       "      <td>I've been using the 15A 6-outlet power strip f...</td>\n",
       "      <td>2</td>\n",
       "    </tr>\n",
       "    <tr>\n",
       "      <th>...</th>\n",
       "      <td>...</td>\n",
       "      <td>...</td>\n",
       "    </tr>\n",
       "    <tr>\n",
       "      <th>11547</th>\n",
       "      <td>* Demonstrating realistic technical observatio...</td>\n",
       "      <td>2</td>\n",
       "    </tr>\n",
       "    <tr>\n",
       "      <th>11548</th>\n",
       "      <td>I'm extremely disappointed with the performanc...</td>\n",
       "      <td>0</td>\n",
       "    </tr>\n",
       "    <tr>\n",
       "      <th>11549</th>\n",
       "      <td>The inverter's energy monitoring feature is us...</td>\n",
       "      <td>1</td>\n",
       "    </tr>\n",
       "    <tr>\n",
       "      <th>11550</th>\n",
       "      <td>The circuit breaker has exceeded its lifespan ...</td>\n",
       "      <td>0</td>\n",
       "    </tr>\n",
       "    <tr>\n",
       "      <th>11551</th>\n",
       "      <td>The smart meter was installed on the exterior ...</td>\n",
       "      <td>3</td>\n",
       "    </tr>\n",
       "  </tbody>\n",
       "</table>\n",
       "<p>11552 rows × 2 columns</p>\n",
       "</div>"
      ],
      "text/plain": [
       "                                                    text  label\n",
       "0      The incorporation of non-linear magneto-electr...      0\n",
       "1      I recently installed a new smart meter in my h...      0\n",
       "2      The circuit breaker's thermal-magnetic trip me...      0\n",
       "3      The new smart meter installed at my house has ...      0\n",
       "4      I've been using the 15A 6-outlet power strip f...      2\n",
       "...                                                  ...    ...\n",
       "11547  * Demonstrating realistic technical observatio...      2\n",
       "11548  I'm extremely disappointed with the performanc...      0\n",
       "11549  The inverter's energy monitoring feature is us...      1\n",
       "11550  The circuit breaker has exceeded its lifespan ...      0\n",
       "11551  The smart meter was installed on the exterior ...      3\n",
       "\n",
       "[11552 rows x 2 columns]"
      ]
     },
     "execution_count": 69,
     "metadata": {},
     "output_type": "execute_result"
    }
   ],
   "source": [
    "df_combined.drop(columns=['label_name'], inplace=True)\n",
    "df_combined = df_combined.sample(frac=1, random_state=42).reset_index(drop=True)\n",
    "df_combined"
   ]
  },
  {
   "cell_type": "markdown",
   "metadata": {},
   "source": [
    "### Converting Dataframe to Huggingface Dataset"
   ]
  },
  {
   "cell_type": "markdown",
   "metadata": {},
   "source": [
    "Now that we are done with handling imbalance, we are converting the dataframe to huggingface dataset."
   ]
  },
  {
   "cell_type": "code",
   "execution_count": 70,
   "metadata": {},
   "outputs": [],
   "source": [
    "df_train = df_combined.copy()\n",
    "df_val = pd.concat([X_val, y_val], axis=1)\n",
    "df_test = pd.concat([X_test, y_test], axis=1)"
   ]
  },
  {
   "cell_type": "code",
   "execution_count": 101,
   "metadata": {},
   "outputs": [],
   "source": [
    "# Define your labels\n",
    "label_names = ['negative', 'positive', 'mixed', 'neutral']\n",
    "\n",
    "# Add info about the dataset\n",
    "description = \"\"\"This dataset contains balanced feedback on electrical devices focusing on smart meters, solar panels, and circuit breakers. It extends the original Electrical Device Feedback dataset with additional data generated through Large Language Models (LLMs) and careful prompt engineering.\"\"\"\n",
    "\n",
    "# Define features consistently\n",
    "features = Features({\n",
    "    'text': Value('string'),\n",
    "    'label': ClassLabel(num_classes=len(label_names), names=label_names)  # Not Sequence\n",
    "})\n",
    "\n",
    "# Create the dataset info with the same features\n",
    "my_dataset_info = DatasetInfo(\n",
    "    description=description,\n",
    "    dataset_name=\"Electrical Device Feedback - Balanced Dataset\",\n",
    "    features=features  # Use the same features object\n",
    ")\n",
    "\n",
    "# Now create datasets\n",
    "hf_dataset_train = Dataset.from_dict(\n",
    "    {\n",
    "        'text': df_train['text'].tolist(),\n",
    "        'label': df_train['label'].tolist()\n",
    "    },\n",
    "    features=features,\n",
    "    info=my_dataset_info\n",
    ")"
   ]
  },
  {
   "cell_type": "code",
   "execution_count": 103,
   "metadata": {},
   "outputs": [
    {
     "data": {
      "text/plain": [
       "Dataset({\n",
       "    features: ['text', 'label'],\n",
       "    num_rows: 1352\n",
       "})"
      ]
     },
     "execution_count": 103,
     "metadata": {},
     "output_type": "execute_result"
    }
   ],
   "source": [
    "# Now create datasets\n",
    "hf_dataset_validation = Dataset.from_dict(\n",
    "    {\n",
    "        'text': df_val['text'].tolist(),\n",
    "        'label': df_val['label'].tolist()\n",
    "    },\n",
    "    features=features,\n",
    "    info=my_dataset_info\n",
    ")\n",
    "hf_dataset_validation"
   ]
  },
  {
   "cell_type": "code",
   "execution_count": 104,
   "metadata": {},
   "outputs": [
    {
     "data": {
      "text/plain": [
       "Dataset({\n",
       "    features: ['text', 'label'],\n",
       "    num_rows: 1352\n",
       "})"
      ]
     },
     "execution_count": 104,
     "metadata": {},
     "output_type": "execute_result"
    }
   ],
   "source": [
    "# Now create datasets\n",
    "hf_dataset_test = Dataset.from_dict(\n",
    "    {\n",
    "        'text': df_test['text'].tolist(),\n",
    "        'label': df_test['label'].tolist()\n",
    "    },\n",
    "    features=features,\n",
    "    info=my_dataset_info\n",
    ")\n",
    "hf_dataset_test"
   ]
  },
  {
   "cell_type": "code",
   "execution_count": 105,
   "metadata": {},
   "outputs": [],
   "source": [
    "hf_dataset = DatasetDict({\n",
    "    'train': hf_dataset_train,\n",
    "    'test': hf_dataset_test,\n",
    "    'validation': hf_dataset_validation\n",
    "})"
   ]
  },
  {
   "cell_type": "code",
   "execution_count": 107,
   "metadata": {},
   "outputs": [
    {
     "name": "stdout",
     "output_type": "stream",
     "text": [
      "DatasetInfo(description='This dataset contains balanced feedback on electrical devices focusing on smart meters, solar panels, and circuit breakers. It extends the original Electrical Device Feedback dataset with additional data generated through Large Language Models (LLMs) and careful prompt engineering.', citation='', homepage='', license='', features={'text': Value(dtype='string', id=None), 'label': ClassLabel(names=['negative', 'positive', 'mixed', 'neutral'], id=None)}, post_processed=None, supervised_keys=None, builder_name=None, dataset_name='Electrical Device Feedback - Balanced Dataset', config_name=None, version=None, splits=None, download_checksums=None, download_size=None, post_processing_size=None, dataset_size=None, size_in_bytes=None)\n"
     ]
    }
   ],
   "source": [
    "print(hf_dataset['train'].info)"
   ]
  },
  {
   "cell_type": "code",
   "execution_count": 108,
   "metadata": {},
   "outputs": [
    {
     "data": {
      "application/vnd.jupyter.widget-view+json": {
       "model_id": "75ffc0b9deef49fcb6316baa55491280",
       "version_major": 2,
       "version_minor": 0
      },
      "text/plain": [
       "Uploading the dataset shards:   0%|          | 0/1 [00:00<?, ?it/s]"
      ]
     },
     "metadata": {},
     "output_type": "display_data"
    },
    {
     "data": {
      "application/vnd.jupyter.widget-view+json": {
       "model_id": "235721a039f043b28216b6354d663fab",
       "version_major": 2,
       "version_minor": 0
      },
      "text/plain": [
       "Creating parquet from Arrow format:   0%|          | 0/12 [00:00<?, ?ba/s]"
      ]
     },
     "metadata": {},
     "output_type": "display_data"
    },
    {
     "data": {
      "application/vnd.jupyter.widget-view+json": {
       "model_id": "94beb8fcc473484f85a699117df13da8",
       "version_major": 2,
       "version_minor": 0
      },
      "text/plain": [
       "Uploading the dataset shards:   0%|          | 0/1 [00:00<?, ?it/s]"
      ]
     },
     "metadata": {},
     "output_type": "display_data"
    },
    {
     "data": {
      "application/vnd.jupyter.widget-view+json": {
       "model_id": "2667e1718fe343b2abbe13a09b2391b7",
       "version_major": 2,
       "version_minor": 0
      },
      "text/plain": [
       "Creating parquet from Arrow format:   0%|          | 0/2 [00:00<?, ?ba/s]"
      ]
     },
     "metadata": {},
     "output_type": "display_data"
    },
    {
     "data": {
      "application/vnd.jupyter.widget-view+json": {
       "model_id": "9a52e42c3e11451f8e4e984794bc82f5",
       "version_major": 2,
       "version_minor": 0
      },
      "text/plain": [
       "Uploading the dataset shards:   0%|          | 0/1 [00:00<?, ?it/s]"
      ]
     },
     "metadata": {},
     "output_type": "display_data"
    },
    {
     "data": {
      "application/vnd.jupyter.widget-view+json": {
       "model_id": "debdfa6d665740528d134b32088d359b",
       "version_major": 2,
       "version_minor": 0
      },
      "text/plain": [
       "Creating parquet from Arrow format:   0%|          | 0/2 [00:00<?, ?ba/s]"
      ]
     },
     "metadata": {},
     "output_type": "display_data"
    },
    {
     "data": {
      "application/vnd.jupyter.widget-view+json": {
       "model_id": "25a8ee7411184c2fb4773c6bd4742139",
       "version_major": 2,
       "version_minor": 0
      },
      "text/plain": [
       "README.md:   0%|          | 0.00/1.54k [00:00<?, ?B/s]"
      ]
     },
     "metadata": {},
     "output_type": "display_data"
    },
    {
     "data": {
      "text/plain": [
       "CommitInfo(commit_url='https://huggingface.co/datasets/disham993/ElectricalDeviceFeedbackBalanced/commit/2fbf5a23bd0d6ae52f5da4c53deef1a1e40aae19', commit_message='Upload dataset', commit_description='', oid='2fbf5a23bd0d6ae52f5da4c53deef1a1e40aae19', pr_url=None, repo_url=RepoUrl('https://huggingface.co/datasets/disham993/ElectricalDeviceFeedbackBalanced', endpoint='https://huggingface.co', repo_type='dataset', repo_id='disham993/ElectricalDeviceFeedbackBalanced'), pr_revision=None, pr_num=None)"
      ]
     },
     "execution_count": 108,
     "metadata": {},
     "output_type": "execute_result"
    }
   ],
   "source": [
    "import os\n",
    "\n",
    "hf_dataset.push_to_hub(repo_id=\"disham993/ElectricalDeviceFeedbackBalanced\", token=os.getenv(\"HF_TOKEN\"))"
   ]
  }
 ],
 "metadata": {
  "kernelspec": {
   "display_name": "synthetic_dataset",
   "language": "python",
   "name": "python3"
  },
  "language_info": {
   "codemirror_mode": {
    "name": "ipython",
    "version": 3
   },
   "file_extension": ".py",
   "mimetype": "text/x-python",
   "name": "python",
   "nbconvert_exporter": "python",
   "pygments_lexer": "ipython3",
   "version": "3.12.8"
  }
 },
 "nbformat": 4,
 "nbformat_minor": 2
}
